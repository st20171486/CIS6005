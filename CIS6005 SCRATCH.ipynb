{
 "cells": [
  {
   "cell_type": "code",
   "execution_count": null,
   "id": "f0244414",
   "metadata": {},
   "outputs": [],
   "source": [
    "#Import the packages\n",
    "import numpy as np\n",
    "import pandas as pd\n",
    "import matplotlib.pyplot as plt\n",
    "#from sklearn import preprocessing \n",
    "%matplotlib inline"
   ]
  },
  {
   "cell_type": "code",
   "execution_count": null,
   "id": "a6e53803",
   "metadata": {},
   "outputs": [],
   "source": [
    "df = pd.read_csv('garments_worker_productivity.csv')\n",
    "df"
   ]
  },
  {
   "cell_type": "code",
   "execution_count": null,
   "id": "db01c336",
   "metadata": {},
   "outputs": [],
   "source": [
    "#transform actual productivity to categorical data\n",
    "tmp_condition = df['actual_productivity'] > 0.735091097\n",
    "df.loc[tmp_condition, 'actual_productivity'] = 'Satisfactory'\n",
    "df.loc[~tmp_condition, 'actual_productivity'] = 'Unsatisfactory'"
   ]
  },
  {
   "cell_type": "code",
   "execution_count": null,
   "id": "4222cc47",
   "metadata": {},
   "outputs": [],
   "source": [
    "# Convert the categorical data to Numerical data\n",
    "df['quarter'].replace(['Quarter1', 'Quarter2', 'Quarter3', 'Quarter4', 'Quarter5'],\n",
    "                       [1, 2, 3, 4, 5], inplace=True)\n",
    "df['day'].replace(['Monday', 'Tuesday', 'Wednesday', 'Thursday', 'Friday', 'Saturday', 'Sunday'],\n",
    "                        [1, 2, 3, 4, 5, 6, 7], inplace=True)\n",
    "df['actual_productivity'].replace(['Satisfactory', 'Unsatisfactory'],\n",
    "                       [1, 0,], inplace=True)\n",
    "\n",
    "df"
   ]
  },
  {
   "cell_type": "code",
   "execution_count": null,
   "id": "f26a21e1",
   "metadata": {},
   "outputs": [],
   "source": [
    "#Visualize the data\n",
    "\n",
    "# Create the histogram (separate plots for each series)\n",
    "plt.hist(df[\"targeted_productivity\"], alpha=0.5, label=\"Target\", color='red')\n",
    "plt.hist(df[\"actual_productivity\"], alpha=0.5, label=\"Actual\", color='black')\n",
    " \n",
    "# Adding labels and a title\n",
    "plt.ylabel('actual_productivity')\n",
    "plt.xlabel('targeted_productivity')\n",
    "plt.title('Histogram Graph showing the targeted productivity against the actual productivity')\n",
    "\n",
    "# Add legend\n",
    "plt.legend()\n",
    " \n",
    "# Display the plot\n",
    "plt.show()"
   ]
  },
  {
   "cell_type": "code",
   "execution_count": null,
   "id": "74ba6935",
   "metadata": {},
   "outputs": [],
   "source": [
    "# Defining the Input and Output\n",
    "df_input = df.drop(columns = ['department', 'date', 'wip',\n",
    "                              'incentive', 'idle_time', 'idle_men', 'no_of_style_change', 'actual_productivity'], axis=1)\n",
    "df_output = df['actual_productivity']"
   ]
  },
  {
   "cell_type": "code",
   "execution_count": null,
   "id": "58677030",
   "metadata": {},
   "outputs": [],
   "source": [
    "df_input"
   ]
  },
  {
   "cell_type": "code",
   "execution_count": null,
   "id": "d7a24153",
   "metadata": {},
   "outputs": [],
   "source": [
    "df_output"
   ]
  },
  {
   "cell_type": "code",
   "execution_count": null,
   "id": "0b49f357",
   "metadata": {},
   "outputs": [],
   "source": [
    "# Next is the Normalization of the data\n",
    "#Use The min-max feature scaling method to normalize the data\n",
    "# copy the data \n",
    "df_min_max_scaled = df_input.copy()\n",
    "\n",
    "# List of columns to scale\n",
    "columns_to_scale = ['quarter', 'day', 'team', 'targeted_productivity', 'smv', 'over_time', 'no_of_workers']\n",
    "\n",
    "# Apply Min-Max normalization\n",
    "for column in columns_to_scale:\n",
    "    df_min_max_scaled[column] = (df_min_max_scaled[column]\n",
    "                                 - df_min_max_scaled[column].min()) / (df_min_max_scaled[column].max() \n",
    "                                                                       - df_min_max_scaled[column].min())\n",
    "\n",
    "# View normalized data\n",
    "display(df_min_max_scaled)"
   ]
  },
  {
   "cell_type": "markdown",
   "id": "b0430563",
   "metadata": {},
   "source": [
    "# ANN From Scratch"
   ]
  },
  {
   "cell_type": "code",
   "execution_count": null,
   "id": "113d1d15",
   "metadata": {
    "scrolled": true
   },
   "outputs": [],
   "source": [
    "inputs = df_min_max_scaled.to_numpy()\n",
    "output = df_output.to_numpy()"
   ]
  },
  {
   "cell_type": "code",
   "execution_count": null,
   "id": "930545a8",
   "metadata": {},
   "outputs": [],
   "source": [
    "inputs"
   ]
  },
  {
   "cell_type": "code",
   "execution_count": null,
   "id": "ed41cf94",
   "metadata": {},
   "outputs": [],
   "source": [
    "output"
   ]
  },
  {
   "cell_type": "code",
   "execution_count": null,
   "id": "d13dd408",
   "metadata": {},
   "outputs": [],
   "source": [
    "# Sigmoid Function and Derivative\n",
    "def sigmoid(x):\n",
    "    return 1 / (1 + np.exp(-x))\n",
    "\n",
    "def sigmoid_derivative(x):\n",
    "    return x * (1 - x)\n",
    "\n",
    "# Generate random input and output data (replace with actual data)\n",
    "#inputs(1197, 7)\n",
    "#output(1197, 1)\n",
    "\n",
    "# Initialization of Weights\n",
    "weights_0 = 2 * np.random.random((7, 16)) - 1\n",
    "weights_1 = 2 * np.random.random((16, 1)) - 1\n",
    "\n",
    "# Training Parameters\n",
    "epochs = 1000\n",
    "learning_rate = 0.1\n",
    "error = []\n",
    "\n",
    "# Training Loop\n",
    "for epoch in range(epochs):\n",
    "    input_layer = inputs \n",
    "    sum_synapse0 = np.dot(input_layer, weights_0) \n",
    "    hidden_layer = sigmoid(sum_synapse0)\n",
    " \n",
    "    sum_synapse1 = np.dot(hidden_layer, weights_1) \n",
    "    output_layer = sigmoid(sum_synapse1)\n",
    " \n",
    "    error_output_layer = output - output_layer \n",
    "    average = np.mean(abs(error_output_layer))\n",
    "\n",
    "   #prints and stores error every 100 epoch\n",
    "    if epoch % 100 == 0:\n",
    "        print('Epoch: ' + str(epoch + 1) + ' Error: ' + str(average))\n",
    "        error.append(average)"
   ]
  },
  {
   "cell_type": "code",
   "execution_count": null,
   "id": "eee8ba15",
   "metadata": {},
   "outputs": [],
   "source": [
    "plt.xlabel('Number of Epochs')\n",
    "plt.ylabel('Error')\n",
    "plt.title('Plot showing the results')\n",
    "plt.plot(error)\n",
    "plt.show()"
   ]
  },
  {
   "cell_type": "code",
   "execution_count": null,
   "id": "655ce64f",
   "metadata": {
    "scrolled": true
   },
   "outputs": [],
   "source": [
    "output_layer"
   ]
  },
  {
   "cell_type": "code",
   "execution_count": null,
   "id": "e2cb5079",
   "metadata": {},
   "outputs": [],
   "source": [
    "preds = pd.DataFrame(output_layer, columns = ['outputs'])\n",
    "preds['prediction'] = 1\n",
    "preds.loc[preds['outputs'] < 0.5, 'prediction'] = 0\n",
    "preds"
   ]
  },
  {
   "cell_type": "code",
   "execution_count": null,
   "id": "1031375e",
   "metadata": {},
   "outputs": [],
   "source": [
    "actual = pd.DataFrame(output)\n",
    "both = pd.merge(actual,preds, left_index = True, right_index = True)\n",
    "both"
   ]
  }
 ],
 "metadata": {
  "kernelspec": {
   "display_name": "Python 3 (ipykernel)",
   "language": "python",
   "name": "python3"
  },
  "language_info": {
   "codemirror_mode": {
    "name": "ipython",
    "version": 3
   },
   "file_extension": ".py",
   "mimetype": "text/x-python",
   "name": "python",
   "nbconvert_exporter": "python",
   "pygments_lexer": "ipython3",
   "version": "3.11.3"
  }
 },
 "nbformat": 4,
 "nbformat_minor": 5
}
