{
 "cells": [
  {
   "cell_type": "code",
   "execution_count": null,
   "id": "f0244414",
   "metadata": {},
   "outputs": [],
   "source": [
    "#Import the packages\n",
    "import numpy as np\n",
    "import pandas as pd\n",
    "import matplotlib.pyplot as plt\n",
    "%matplotlib inline\n",
    "\n",
    "from sklearn.model_selection import train_test_split\n",
    "from sklearn.preprocessing import StandardScaler\n",
    "from sklearn.ensemble import RandomForestRegressor\n",
    "from sklearn.metrics import mean_absolute_error, mean_squared_error, r2_score\n",
    "\n",
    "from tensorflow.keras import layers\n",
    "\n",
    "import keras\n",
    "from keras.models import Sequential\n",
    "from keras.layers import Dense\n",
    "from keras import models"
   ]
  },
  {
   "cell_type": "code",
   "execution_count": null,
   "id": "a6e53803",
   "metadata": {},
   "outputs": [],
   "source": [
    "df = pd.read_csv('garments_worker_productivity.csv')\n",
    "df"
   ]
  },
  {
   "cell_type": "code",
   "execution_count": null,
   "id": "db01c336",
   "metadata": {},
   "outputs": [],
   "source": [
    "#transform actual productivity to categorical data\n",
    "tmp_condition = df['actual_productivity'] > 0.735091097\n",
    "df.loc[tmp_condition, 'actual_productivity'] = 'Satisfactory'\n",
    "df.loc[~tmp_condition, 'actual_productivity'] = 'Unsatisfactory'"
   ]
  },
  {
   "cell_type": "code",
   "execution_count": null,
   "id": "4222cc47",
   "metadata": {},
   "outputs": [],
   "source": [
    "# Convert the categorical data to Numerical data\n",
    "df['quarter'].replace(['Quarter1', 'Quarter2', 'Quarter3', 'Quarter4', 'Quarter5'],\n",
    "                       [1, 2, 3, 4, 5], inplace=True)\n",
    "df['day'].replace(['Monday', 'Tuesday', 'Wednesday', 'Thursday', 'Friday', 'Saturday', 'Sunday'],\n",
    "                        [1, 2, 3, 4, 5, 6, 7], inplace=True)\n",
    "df['actual_productivity'].replace(['Satisfactory', 'Unsatisfactory'],\n",
    "                       [1, 0,], inplace=True)\n",
    "\n",
    "df"
   ]
  },
  {
   "cell_type": "code",
   "execution_count": null,
   "id": "74ba6935",
   "metadata": {},
   "outputs": [],
   "source": [
    "# Remove unnecessary columns\n",
    "df_input = df.drop(columns = ['department', 'date', 'wip', 'incentive', 'idle_time', 'idle_men', 'no_of_style_change', 'actual_productivity'], axis=1)\n",
    "df_output = df['actual_productivity']"
   ]
  },
  {
   "cell_type": "code",
   "execution_count": null,
   "id": "58677030",
   "metadata": {},
   "outputs": [],
   "source": [
    "df_input"
   ]
  },
  {
   "cell_type": "code",
   "execution_count": null,
   "id": "d7a24153",
   "metadata": {},
   "outputs": [],
   "source": [
    "df_output"
   ]
  },
  {
   "cell_type": "markdown",
   "id": "80692b0e",
   "metadata": {},
   "source": [
    "# ANN with ML Libraries"
   ]
  },
  {
   "cell_type": "code",
   "execution_count": null,
   "id": "86a9e43f",
   "metadata": {
    "scrolled": true
   },
   "outputs": [],
   "source": [
    "# Split the data\n",
    "x_train, x_test, y_train, y_test = train_test_split(df_input, df_output, test_size=0.3, random_state=42)\n",
    "\n",
    "x = df_input\n",
    "y = df_output\n",
    "\n",
    "# Scale the data\n",
    "scaler = StandardScaler()\n",
    "x_train_scaled = scaler.fit_transform(x_train)\n",
    "x_test_scaled = scaler.transform(x_test)\n",
    "\n",
    "# Define the model\n",
    "model = keras.Sequential([\n",
    "  layers.Dense(16, activation=\"relu\", input_shape=(7,)),        \n",
    "  layers.Dense(1)                                       \n",
    "])\n",
    "\n",
    "# Compile the model\n",
    "model.compile(loss='mean_squared_error', optimizer='adam', metrics=['mean_absolute_error', 'mean_squared_error'])\n",
    "\n",
    "# Train the model\n",
    "history = model.fit(x_train_scaled, y_train, epochs=100, validation_split=0.2)"
   ]
  },
  {
   "cell_type": "code",
   "execution_count": null,
   "id": "95a8ac0c",
   "metadata": {},
   "outputs": [],
   "source": [
    "# Evaluation\n",
    "y_train_pred = model.predict(x_train_scaled)\n",
    "y_test_pred = model.predict(x_test_scaled)\n",
    "\n",
    "# Calculate metrics\n",
    "train_mae = mean_absolute_error(y_train, y_train_pred)\n",
    "train_mse = mean_squared_error(y_train, y_train_pred)\n",
    "train_r2 = r2_score(y_train, y_train_pred)\n",
    "\n",
    "test_mae = mean_absolute_error(y_test, y_test_pred)\n",
    "test_mse = mean_squared_error(y_test, y_test_pred)\n",
    "test_r2 = r2_score(y_test, y_test_pred)\n",
    "\n",
    "print(\"Training MAE: \", train_mae)\n",
    "print(\"Training MSE: \", train_mse)\n",
    "print(\"Training R²: \", train_r2)\n",
    "\n",
    "print(\"Test MAE: \", test_mae)\n",
    "print(\"Test MSE: \", test_mse)\n",
    "print(\"Test R²: \", test_r2)"
   ]
  },
  {
   "cell_type": "code",
   "execution_count": null,
   "id": "5053db88",
   "metadata": {},
   "outputs": [],
   "source": [
    "# Plotting the training history\n",
    "plt.figure()\n",
    "plt.plot(history.history['mean_absolute_error'], label='Train MAE')\n",
    "plt.plot(history.history['val_mean_absolute_error'], label='Validation MAE')\n",
    "plt.ylabel('Mean Absolute Error', fontsize=16)\n",
    "plt.xlabel('Epoch', fontsize=16)\n",
    "plt.xticks(fontsize=16)\n",
    "plt.yticks(fontsize=16)\n",
    "plt.legend(fontsize=16, loc='upper right')\n",
    "fig = plt.gcf()\n",
    "fig.set_size_inches(8, 8)\n",
    "plt.show()"
   ]
  },
  {
   "cell_type": "code",
   "execution_count": null,
   "id": "52ce88eb",
   "metadata": {},
   "outputs": [],
   "source": [
    "# Plot training & validation loss values\n",
    "plt.figure(figsize=(12, 6))\n",
    "plt.plot(history.history['loss'], label='Training Loss')\n",
    "plt.plot(history.history['val_loss'], label='Validation Loss')\n",
    "plt.title('Model Loss')\n",
    "plt.xlabel('Epoch')\n",
    "plt.ylabel('Loss')\n",
    "plt.legend(loc='upper right')\n",
    "plt.grid(True)\n",
    "plt.show()"
   ]
  },
  {
   "cell_type": "markdown",
   "id": "20eef7f5",
   "metadata": {},
   "source": [
    "# Random Forest Architecture"
   ]
  },
  {
   "cell_type": "code",
   "execution_count": null,
   "id": "1df6bb33",
   "metadata": {},
   "outputs": [],
   "source": [
    "# Define the Random Forest model\n",
    "rf_model = RandomForestRegressor(n_estimators=100, random_state=42)\n",
    "\n",
    "# Train the model\n",
    "rf_model.fit(x_train_scaled, y_train)\n",
    "\n",
    "# Evaluation\n",
    "y_train_pred_rf = rf_model.predict(x_train_scaled)\n",
    "y_test_pred_rf = rf_model.predict(x_test_scaled)\n",
    "\n",
    "# Calculate metrics\n",
    "train_mae_rf = mean_absolute_error(y_train, y_train_pred_rf)\n",
    "train_mse_rf = mean_squared_error(y_train, y_train_pred_rf)\n",
    "train_r2_rf = r2_score(y_train, y_train_pred_rf)\n",
    "\n",
    "test_mae_rf = mean_absolute_error(y_test, y_test_pred_rf)\n",
    "test_mse_rf = mean_squared_error(y_test, y_test_pred_rf)\n",
    "test_r2_rf = r2_score(y_test, y_test_pred_rf)\n",
    "\n",
    "print(\"Random Forest - Training MAE: \", train_mae_rf)\n",
    "print(\"Random Forest - Training MSE: \", train_mse_rf)\n",
    "print(\"Random Forest - Training R²: \", train_r2_rf)\n",
    "\n",
    "print(\"Random Forest - Test MAE: \", test_mae_rf)\n",
    "print(\"Random Forest - Test MSE: \", test_mse_rf)\n",
    "print(\"Random Forest - Test R²: \", test_r2_rf)\n",
    "\n",
    "# Plotting feature importances\n",
    "importances = rf_model.feature_importances_\n",
    "indices = np.argsort(importances)[::-1]\n",
    "names = [df_input.columns[i] for i in indices]\n",
    "\n",
    "plt.figure(figsize=(10, 6))\n",
    "plt.title(\"Feature Importance\")\n",
    "plt.bar(range(x_train.shape[1]), importances[indices])\n",
    "plt.xticks(range(x_train.shape[1]), names, rotation=90)\n",
    "plt.show()"
   ]
  },
  {
   "cell_type": "code",
   "execution_count": null,
   "id": "e2006777",
   "metadata": {},
   "outputs": [],
   "source": []
  }
 ],
 "metadata": {
  "kernelspec": {
   "display_name": "Python 3 (ipykernel)",
   "language": "python",
   "name": "python3"
  },
  "language_info": {
   "codemirror_mode": {
    "name": "ipython",
    "version": 3
   },
   "file_extension": ".py",
   "mimetype": "text/x-python",
   "name": "python",
   "nbconvert_exporter": "python",
   "pygments_lexer": "ipython3",
   "version": "3.11.3"
  }
 },
 "nbformat": 4,
 "nbformat_minor": 5
}
